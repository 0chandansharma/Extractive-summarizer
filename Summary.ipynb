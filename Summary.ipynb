{
 "cells": [
  {
   "cell_type": "code",
   "execution_count": 46,
   "metadata": {},
   "outputs": [],
   "source": [
    "from os import listdir\n",
    "import string\n",
    "import numpy as np\n",
    "#from gensim import KeyedVector\n",
    "#import nltk\n",
    "#nltk.download('stopwords')\n",
    "from nltk.corpus import stopwords \n",
    "from sklearn.metrics.pairwise import cosine_similarity\n",
    "import networkx as nx\n",
    "#from nltk.tokenize import word_tokenize\n",
    "stop_words = set(stopwords.words('english'))\n",

   ]
  },
  {
   "cell_type": "code",
   "execution_count": 47,
   "metadata": {},
   "outputs": [],
   "source": [
    "def load_doc(filename):\n",
    "    file = open(filename, encoding='utf-8')\n",
    "    text = file.read()\n",
    "    file.close()\n",
    "    return text"
   ]
  },
  {
   "cell_type": "code",
   "execution_count": 48,
   "metadata": {},
   "outputs": [],
   "source": [
    "def split_story(doc):\n",
    "    index = doc.find('@highlight')\n",
    "    story, highlights = doc[:index], doc[index:].split('@highlight')\n",
    "    highlights = [h.strip() for h in highlights if len(h) > 0]\n",
    "    return story, highlights"
   ]
  },
  {
   "cell_type": "code",
   "execution_count": 49,
   "metadata": {},
   "outputs": [],
   "source": [
    "def clean_lines(lines):\n",
    "    cleaned = list()\n",
    "    table = str.maketrans('', '', string.punctuation)\n",
    "    for line in lines:\n",
    "        index = line.find('(CNN) -- ')\n",
    "        if index > -1:\n",
    "            line = line[index+len('(CNN)'):]\n",
    "        line = line.split()\n",
    "        line = [word.lower() for word in line]\n",
    "        line = [w.translate(table) for w in line]\n",
    "        line = [word for word in line if word.isalpha() and not word in stop_words]\n",
    "        cleaned.append(' '.join(line))\n",
    "    cleaned = [c for c in cleaned if len(c) > 0]\n",
    "    return cleaned"
   ]
  },
  {
   "cell_type": "code",
   "execution_count": 50,
   "metadata": {},
   "outputs": [],
   "source": [
    "def load_stories(directory):\n",
    "    stories = list()\n",
    "    for name in listdir(directory):\n",
    "        filename = directory + '/' + name\n",
    "        #doc = load_doc(filename)\n",
    "        #story, highlights = split_story(doc)\n",
    "        story = load_doc(filename)\n",
    "        if (len(story) >= 5):\n",
    "            stories.append({'story':story})#, 'highlights':highlights, 'summary':''})\n",
    "    return stories"
   ]
  },
  {
   "cell_type": "code",
   "execution_count": 51,
   "metadata": {},
   "outputs": [],
   "source": [
    "directory = 'dataset/stories_text_summarization_dataset_test'\n",
    "stories = load_stories(directory)"
   ]
  },
  {
   "cell_type": "code",
   "execution_count": 52,
   "metadata": {},
   "outputs": [],
   "source": [
    "for example in stories:\n",
    "    example['story'] = clean_lines(example['story'].split('\\n'))\n",
    "    #example['highlights'] = clean_lines(example['highlights']) "
   ]
  },
  {
   "cell_type": "code",
   "execution_count": 53,
   "metadata": {},
   "outputs": [],
   "source": [
    "import numpy as np\n",
    "word_embeddings = {}\n",
    "f = open(r'glove.6B.100d.txt', encoding='utf-8')\n",
    "for line in f:\n",
    "    values = line.split()\n",
    "    #print(values)\n",
    "    word = values[0]\n",
    "    #print(word)\n",
    "    coefs = np.asarray(values[1:], dtype='float32')\n",
    "    #print(coefs)\n",
    "    word_embeddings[word] = coefs\n",
    "f.close()"
   ]
  },
  {
   "cell_type": "code",
   "execution_count": 57,
   "metadata": {},
   "outputs": [
    {
     "name": "stdout",
     "output_type": "stream",
     "text": [
      "***** 1 *****\n",
      " @highlight win sunday would perfect way former mcilroy prepare british open starts next week royal liverpool last two majors @highlight mcilroy shot course record royal aberdeen thursday actually second player better old mark swedens kristoffer broberg earlier fired\n",
      "***** 2 *****\n",
      " @highlight anyone doubts potential influence movies public opinion need look two films causing uproar even opened nationwide present hot button issues manage fire people left right @highlight movie actually convince support torture movie really persuade fracking process used drill natural gas danger environment movie truly cause view certain minority groups negative light\n",
      "***** 3 *****\n",
      " @highlight math may scary pi evidenced widespread revelry pi day one might even say gasp cool like pi days even house representatives supported designation march national pi day @highlight pi day began small gathering mostly museum staff public pi extravaganza featuring pi procession whose attendees get number line order pis digits get idea\n",
      "***** 4 *****\n",
      " @highlight unsuccessfully demanding meeting malaysian ambassador hotel eight hours angry relatives pushed past police officers tried stop making midnight march across chinese capital destination malaysian embassy @highlight weeks distraught next kin requested facetoface meetings malaysian officials demanding briefing details last moments flight believed disappeared indian ocean absence information malaysian authorities many relatives continue believe missing loved ones still alive\n",
      "***** 5 *****\n",
      " @highlight un security council approved resolution monday send peacekeepers abyei sudan part recent agreement sudan southern sudan @highlight resolution establish six months united nations interim security force abyei unisfa comprising maximum military personnel police personnel appropriate civilian support resolution states\n",
      "***** 6 *****\n",
      " @highlight nfls current policy sends terrible message players fans americans even committing horrific act violence quickly back field senators wrote @highlight bipartisan group women senators waded ongoing drama nfl ray rice domestic violence\n",
      "***** 7 *****\n",
      " @highlight white house wednesday said puzzled former spokesmans memoir accuses bush administration mired propaganda political spin times playing loose truth @highlight excerpts book released monday scott mcclellan writes war iraq bush advisers confused propaganda campaign high level candor honesty fundamentally needed build sustain public support time war\n",
      "***** 8 *****\n",
      " @highlight third think twitter tech company media company part larger environment little correct failure diversity year year studies one last week directors guild america well reports makes news womens media center status women media document exactly distorted mainstream media ownership management production remain online situation improving even difference largely gains womenoriented pinkcollar content @highlight bryan goldbergs september launch bustle womens centric website world news politics alongside beauty tips blunt force case point announcing site tonedeaf post goldberg widely mocked personal failure grasp among things ridiculous claim starting first site kind women real issue isnt goldbergs cluelessness institutional biases enabled raise million far able knowledgeable experienced women cant\n",
      "***** 9 *****\n",
      " @highlight queens day never trouw newspaper said netherlands always proud nonsense royal family comes queen cycles bike also mixes people without obvious security measurements still possible royal family target attack @highlight man whose name released seriously injured crash thursday town apeldoorn miles east amsterdam police said died early friday police said\n",
      "***** 10 *****\n",
      " @highlight late mao would stand tiananmen rostrum launch cultural revolution rallied hundreds thousands young chinese radical red guards lionized like demigod rebel justified proclaimed rebelled everything wreaked havoc everywhere ten years china condemned political turmoil economic malaise perhaps factor kept country total collapse peoples incomparable resilience ability chi ku eat bitterness bear hardship @highlight tiananmen rostrum chairman mao formally proclaimed founding peoples republic chinese people stood declared shrill hunanese accent decades whole nation followed mao loyally emphasized political mobilization common man especially peasantry maos ideology chinese people found hope new china wherein citizens would always bowl rice eat clothes wear\n"
     ]
    }
   ],
   "source": [
    "c=0\n",
    "for j in range(0,len(stories)):\n",
    "     sentence_vectors = []\n",
    "     for k in range(0,len(stories[j]['story'])):\n",
    "         for i in range(0,len(stories[j]['story'][k])):\n",
    "             if len(stories[j]['story'][k]) != 0:\n",
    "                 v = sum([word_embeddings.get(w, np.zeros((100,))) for w in stories[j]['story'][k].split()])/(len(stories[j]['story'][k].split())+0.001)\n",
    "                 c=c+1;\n",
    "             else:\n",
    "                 v = np.zeros((100,))\n",
    "                 c=c+1\n",
    "         sentence_vectors.append(v)\n",
    "     sim_mat = np.zeros([len(stories[j]['story']), len(stories[j]['story'])])\n",
    "     for p in range(len(stories[j]['story'])):\n",
    "         for q in range(len(stories[j]['story'])):\n",
    "             if p != q:\n",
    "                 sim_mat[p][q] = cosine_similarity(sentence_vectors[p].reshape(1,100), sentence_vectors[q].reshape(1,100))[0,0]\n",
    "     #print(sim_mat)\n",
    "     nx_graph = nx.from_numpy_array(sim_mat)\n",
    "     scores = nx.pagerank(nx_graph)\n",
    "     ranked_sentences = sorted(((scores[h],s) for h,s in enumerate(stories[j]['story'])), reverse=True)\n",
    "     #print(ranked_sentences[0][1],type(ranked_sentences[0][1]))\n",
    "     sn = 2\n",
    "     summ = ''\n",
    "     #Generate summary\n",
    "     for o in range(sn):\n",
    "         summ = summ + ' @highlight ' + str(ranked_sentences[o][1])\n",
    "         #summ = summ + str(ranked_sentences[o][1]) + '. ' \n",
    "         #stories[j]['summary'] = summ\n",
    "     print('*****', j+1, '*****')\n",
    "     print (summ)"
   ]
  },
  {
   "cell_type": "code",
   "execution_count": null,
   "metadata": {},
   "outputs": [],
   "source": []
  }
 ],
 "metadata": {
  "kernelspec": {
   "display_name": "Python 3",
   "language": "python",
   "name": "python3"
  },
  "language_info": {
   "codemirror_mode": {
    "name": "ipython",
    "version": 3
   },
   "file_extension": ".py",
   "mimetype": "text/x-python",
   "name": "python",
   "nbconvert_exporter": "python",
   "pygments_lexer": "ipython3",
   "version": "3.7.1"
  }
 },
 "nbformat": 4,
 "nbformat_minor": 2
}
